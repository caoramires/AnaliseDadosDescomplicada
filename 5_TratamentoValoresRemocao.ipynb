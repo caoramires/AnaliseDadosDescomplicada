{
 "cells": [
  {
   "cell_type": "markdown",
   "id": "2eae03a2-713c-4d18-a46d-bfa0052bdf3d",
   "metadata": {},
   "source": [
    "#Remoçãp de dados"
   ]
  },
  {
   "cell_type": "markdown",
   "id": "97a90215-7017-469c-999f-4d4a33285a4c",
   "metadata": {},
   "source": [
    "Pandas apresenta varios métodos para trabalhar com NaN<br>\n",
    "<br>\n",
    "isna() or isnull(): Para identificar valores NaN, retornando uma mascara booleana.<br>\n",
    "dropna(): Para remover linhas ou colunas contendo valores NaN.<br>\n",
    "fillna(): Para imputar valores alternativos aos valores NaN, que podem ser o mesmo valor do próximo (forward)<br>"
   ]
  },
  {
   "cell_type": "code",
   "execution_count": 6,
   "id": "7c51ad8a-60d0-4808-808a-9d2670d946d2",
   "metadata": {},
   "outputs": [
    {
     "name": "stdout",
     "output_type": "stream",
     "text": [
      "       nome  nota_final  faltas\n",
      "0     Livia         8.5     2.0\n",
      "1   Gabriel         7.0     3.0\n",
      "2    Carlos         NaN     2.0\n",
      "3  Carolina         9.0     NaN\n"
     ]
    }
   ],
   "source": [
    "import pandas as pd\n",
    "import numpy as np\n",
    "\n",
    "# Criando um DataFrame de exemplo com dados ausentes\n",
    "dados_alunos = pd.DataFrame({\n",
    "    'nome': ['Livia', 'Gabriel', 'Carlos', 'Carolina'],\n",
    "    'nota_final': [8.5, 7.0, np.nan, 9.0],\n",
    "    'faltas': [2, 3, 2, np.nan]\n",
    "})\n",
    "\n",
    "print(dados_alunos)"
   ]
  },
  {
   "cell_type": "code",
   "execution_count": 5,
   "id": "01d4ba6f-7684-48ca-b701-8c642683e2f4",
   "metadata": {},
   "outputs": [
    {
     "name": "stdout",
     "output_type": "stream",
     "text": [
      "    nome  nota_final  faltas\n",
      "0  False       False   False\n",
      "1  False       False   False\n",
      "2  False        True   False\n",
      "3  False       False    True\n"
     ]
    }
   ],
   "source": [
    "import pandas as pd\n",
    "import numpy as np\n",
    "\n",
    "# Criando um DataFrame de exemplo com dados ausentes\n",
    "dados_alunos = pd.DataFrame({\n",
    "    'nome': ['Livia', 'Gabriel', 'Carlos', 'Carolina'],\n",
    "    'nota_final': [8.5, 7.0, np.nan, 9.0],\n",
    "    'faltas': [2, 3, 2, np.nan]\n",
    "})\n",
    "\n",
    "valores_nan = dados_alunos.isna()\n",
    "\n",
    "print(valores_nan)"
   ]
  },
  {
   "cell_type": "code",
   "execution_count": 7,
   "id": "8788ea9e-c428-4776-a1af-9fef31ec8029",
   "metadata": {},
   "outputs": [
    {
     "name": "stdout",
     "output_type": "stream",
     "text": [
      "      nome  nota_final  faltas\n",
      "0    Livia         8.5     2.0\n",
      "1  Gabriel         7.0     3.0\n"
     ]
    }
   ],
   "source": [
    "import pandas as pd\n",
    "import numpy as np\n",
    "\n",
    "# Criando um DataFrame de exemplo com dados ausentes\n",
    "dados_alunos = pd.DataFrame({\n",
    "    'nome': ['Livia', 'Gabriel', 'Carlos', 'Carolina'],\n",
    "    'nota_final': [8.5, 7.0, np.nan, 9.0],\n",
    "    'faltas': [2, 3, 2, np.nan]\n",
    "})\n",
    "\n",
    "valores_nan = dados_alunos.dropna()\n",
    "\n",
    "print(valores_nan)"
   ]
  }
 ],
 "metadata": {
  "kernelspec": {
   "display_name": "analiseEnv",
   "language": "python",
   "name": "analiseenv"
  },
  "language_info": {
   "codemirror_mode": {
    "name": "ipython",
    "version": 3
   },
   "file_extension": ".py",
   "mimetype": "text/x-python",
   "name": "python",
   "nbconvert_exporter": "python",
   "pygments_lexer": "ipython3",
   "version": "3.13.2"
  }
 },
 "nbformat": 4,
 "nbformat_minor": 5
}
