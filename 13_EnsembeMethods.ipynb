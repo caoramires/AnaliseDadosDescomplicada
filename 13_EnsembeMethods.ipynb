{
 "cells": [
  {
   "cell_type": "markdown",
   "id": "264ab95c-52bb-4354-8a87-8ba7d1d35b88",
   "metadata": {},
   "source": [
    "# Random Forest (Floresta Aleatória)"
   ]
  },
  {
   "cell_type": "markdown",
   "id": "51e3babe-d29d-4b95-89aa-8313d56560e8",
   "metadata": {},
   "source": [
    "Vamos aplicar o Random Forest ao nosso problema de classificação de spam. A estrutura do código é quase idêntica,<br>\n",
    "mostrando a beleza da API do Scikit-learn. Apenas trocamos o \"motor\" do modelo."
   ]
  },
  {
   "cell_type": "code",
   "execution_count": 8,
   "id": "381a179b-5529-498f-9d45-73ecfa619fca",
   "metadata": {},
   "outputs": [
    {
     "name": "stdout",
     "output_type": "stream",
     "text": [
      "--- Previsão com Random Forest ---\n",
      "Previsão do Modelo de Floresta: É SPAM\n",
      "Acurácia da Floresta nos dados de treino: 100.00%\n"
     ]
    }
   ],
   "source": [
    "import pandas as pd\n",
    "from sklearn.ensemble import RandomForestClassifier # Importamos da família 'ensemble'\n",
    "from sklearn.metrics import accuracy_score\n",
    "\n",
    "# 1. Usando exatamente os mesmos dados de antes\n",
    "emails = pd.DataFrame({\n",
    "    'contem_oferta': [1, 0, 0, 1, 0, 1, 0, 0, 1, 1],\n",
    "    'erros_gramaticais': [1, 0, 1, 1, 0, 0, 0, 1, 0, 1],\n",
    "    'eh_spam': [1, 0, 0, 1, 0, 1, 0, 0, 1, 1]\n",
    "})\n",
    "\n",
    "X_email = emails[['contem_oferta', 'erros_gramaticais']]\n",
    "y_email = emails['eh_spam']\n",
    "\n",
    "# 2. Criando e treinando o modelo de Floresta Aleatória\n",
    "# n_estimators=100 significa que estamos construindo uma floresta com 100 árvores.\n",
    "modelo_rf = RandomForestClassifier(n_estimators=100, random_state=42)\n",
    "modelo_rf.fit(X_email, y_email)\n",
    "\n",
    "# 3. Prevendo para o mesmo novo e-mail\n",
    "\n",
    "novo_email = pd.DataFrame([[1, 1]], columns=['contem_oferta', 'erros_gramaticais']) # Um e-mail com \"oferta\" e com erros gramaticais\n",
    "previsao_rf = modelo_rf.predict(novo_email)\n",
    "\n",
    "print(f\"--- Previsão com Random Forest ---\")\n",
    "print(f\"Previsão do Modelo de Floresta: {'É SPAM' if previsao_rf[0] == 1 else 'Não é Spam'}\")\n",
    "\n",
    "# Avaliando a acurácia\n",
    "acuracia_rf = accuracy_score(y_email, modelo_rf.predict(X_email))\n",
    "print(f\"Acurácia da Floresta nos dados de treino: {acuracia_rf * 100:.2f}%\")\n"
   ]
  },
  {
   "cell_type": "code",
   "execution_count": null,
   "id": "776a8469-37c2-4587-93e3-083e55f588f5",
   "metadata": {},
   "outputs": [],
   "source": [
    "o\tClusterização: (Ex: agrupar clientes com comportamentos de compra semelhantes).\n",
    "o\tRedução de Dimensionalidade.\n",
    "o\tFerramentas para pré-processamento de dados, seleção de modelos e avaliação de performance.\n"
   ]
  }
 ],
 "metadata": {
  "kernelspec": {
   "display_name": "Python [conda env:base] *",
   "language": "python",
   "name": "conda-base-py"
  },
  "language_info": {
   "codemirror_mode": {
    "name": "ipython",
    "version": 3
   },
   "file_extension": ".py",
   "mimetype": "text/x-python",
   "name": "python",
   "nbconvert_exporter": "python",
   "pygments_lexer": "ipython3",
   "version": "3.9.7"
  }
 },
 "nbformat": 4,
 "nbformat_minor": 5
}
