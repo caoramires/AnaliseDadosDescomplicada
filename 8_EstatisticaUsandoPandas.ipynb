{
 "cells": [
  {
   "cell_type": "markdown",
   "id": "11b88987-759b-4d41-8c92-e0325e990668",
   "metadata": {},
   "source": [
    "# Usando a Mágica do Pandas"
   ]
  },
  {
   "cell_type": "code",
   "execution_count": 2,
   "id": "c3d0edfa-5ba6-462b-842d-80b5bb360a2f",
   "metadata": {},
   "outputs": [],
   "source": [
    "# Preparando o ambiente para visualização\n",
    "import pandas as pd\n",
    "import matplotlib.pyplot as plt\n",
    "import seaborn as sns\n",
    "\n",
    "# Criando um dataset mais robusto para os exemplos\n",
    "dados_completos = pd.DataFrame({\n",
    "    'horas_estudo': [2, 3, 5, 1, 6, 7, 4, 8, 2, 5],\n",
    "    'nota_final': [6.5, 7.0, 8.5, 5.0, 9.0, 9.5, 7.5, 10.0, 6.0, 8.0],\n",
    "    'materia': ['Mat', 'Port', 'Mat', 'Port', 'Mat', 'Mat', 'Port', 'Mat', 'Port', 'Port']\n",
    "})\n"
   ]
  },
  {
   "cell_type": "code",
   "execution_count": 2,
   "id": "e2292f4e-ff39-49fb-bb9d-7b16513d7c50",
   "metadata": {},
   "outputs": [
    {
     "name": "stdout",
     "output_type": "stream",
     "text": [
      "\n",
      "--- Resumo Estatístico dos Dados ---\n",
      "       horas_estudo  nota_final\n",
      "count     10.000000   10.000000\n",
      "mean       4.300000    7.700000\n",
      "std        2.311805    1.602082\n",
      "min        1.000000    5.000000\n",
      "25%        2.250000    6.625000\n",
      "50%        4.500000    7.750000\n",
      "75%        5.750000    8.875000\n",
      "max        8.000000   10.000000\n"
     ]
    }
   ],
   "source": [
    "# Obtendo um resumo estatístico completo das colunas numéricas\n",
    "resumo_estatistico = dados_completos.describe()\n",
    "\n",
    "print(\"\\n--- Resumo Estatístico dos Dados ---\")\n",
    "print(resumo_estatistico)\n"
   ]
  },
  {
   "cell_type": "code",
   "execution_count": 3,
   "id": "20180641-9fac-4cf1-95fb-6f4f58b1da4b",
   "metadata": {},
   "outputs": [
    {
     "name": "stdout",
     "output_type": "stream",
     "text": [
      "\n",
      "A mediana geral das notas é: 7.75\n"
     ]
    }
   ],
   "source": [
    "# Calculando a mediana de uma coluna específica\n",
    "\n",
    "mediana_notas_geral = dados_completos['nota_final'].median()\n",
    "print(f\"\\nA mediana geral das notas é: {mediana_notas_geral}\")\n"
   ]
  },
  {
   "cell_type": "code",
   "execution_count": 7,
   "id": "abb85163-5942-459b-b8a6-84af89ac6547",
   "metadata": {},
   "outputs": [
    {
     "name": "stdout",
     "output_type": "stream",
     "text": [
      "\n",
      "A media geral das notas é: 7.7\n"
     ]
    }
   ],
   "source": [
    "# Calculando a Média\n",
    "\n",
    "media_notas_geral = dados_completos['nota_final'].mean()\n",
    "print(f\"\\nA media geral das notas é: {media_notas_geral}\")\n"
   ]
  },
  {
   "cell_type": "code",
   "execution_count": 15,
   "id": "dd240c41-ef6f-44a5-b164-c139a0308ece",
   "metadata": {},
   "outputs": [
    {
     "name": "stdout",
     "output_type": "stream",
     "text": [
      "A moda das horas de estudo é:\n",
      "0    2\n",
      "1    5\n",
      "Name: horas_estudo, dtype: int64\n"
     ]
    }
   ],
   "source": [
    "# Calculando a Moda\n",
    "\n",
    "moda_horas_estudo = dados_completos['horas_estudo'].mode()\n",
    "print(f\"A moda das horas de estudo é:\\n{moda_horas_estudo}\")\n"
   ]
  },
  {
   "cell_type": "code",
   "execution_count": 16,
   "id": "498994e9-8f4b-43b6-a4a6-06ae6d3530b5",
   "metadata": {},
   "outputs": [
    {
     "name": "stdout",
     "output_type": "stream",
     "text": [
      "O Desvio Padrão é: 1.602081978759722\n"
     ]
    }
   ],
   "source": [
    "# Calculando o Desvio Padrão\n",
    "desvio_padrao = dados_completos['nota_final'].std()\n",
    "\n",
    "print(f'O Desvio Padrão é: {desvio_padrao}')"
   ]
  },
  {
   "cell_type": "code",
   "execution_count": 20,
   "id": "370ce9ae-0f8e-490f-a4ac-21c53cf4b3fd",
   "metadata": {},
   "outputs": [
    {
     "name": "stdout",
     "output_type": "stream",
     "text": [
      "A Variância das Notas é: 2.5666666666666664\n"
     ]
    }
   ],
   "source": [
    "# Calculando a Variância\n",
    "\n",
    "variancia_notas = dados_completos['nota_final'].var()\n",
    "print(f'A Variância das Notas é: {variancia_notas}')"
   ]
  },
  {
   "cell_type": "markdown",
   "id": "9d3ff7c9-a826-4ae4-bcf5-62f6d207e7d9",
   "metadata": {},
   "source": [
    "## Máximos e Minimos"
   ]
  },
  {
   "cell_type": "code",
   "execution_count": 21,
   "id": "12e85923-de36-449f-a471-23e59c182283",
   "metadata": {},
   "outputs": [
    {
     "name": "stdout",
     "output_type": "stream",
     "text": [
      "A maior nota entre os alunos foi: 10.0\n"
     ]
    }
   ],
   "source": [
    "# Calculando o Valor máximo das notas \n",
    "\n",
    "maximo = dados_completos['nota_final'].max()\n",
    "print(f'A maior nota entre os alunos foi: {maximo}')"
   ]
  },
  {
   "cell_type": "code",
   "execution_count": 23,
   "id": "bf7e2ec9-291a-454d-9e36-c0aa8e6d1579",
   "metadata": {},
   "outputs": [
    {
     "name": "stdout",
     "output_type": "stream",
     "text": [
      "A pior nota entre os alunos foi: 5.0\n"
     ]
    }
   ],
   "source": [
    "# Calculando o Valor mínimo das notas \n",
    "\n",
    "minimo = dados_completos['nota_final'].min()\n",
    "print(f'A pior nota entre os alunos foi: {minimo}')"
   ]
  }
 ],
 "metadata": {
  "kernelspec": {
   "display_name": "Python [conda env:base] *",
   "language": "python",
   "name": "conda-base-py"
  },
  "language_info": {
   "codemirror_mode": {
    "name": "ipython",
    "version": 3
   },
   "file_extension": ".py",
   "mimetype": "text/x-python",
   "name": "python",
   "nbconvert_exporter": "python",
   "pygments_lexer": "ipython3",
   "version": "3.9.7"
  }
 },
 "nbformat": 4,
 "nbformat_minor": 5
}
