{
 "cells": [
  {
   "cell_type": "markdown",
   "id": "5d9f9b52-e949-4b1d-92a0-297d0239a78a",
   "metadata": {},
   "source": [
    "# Preparação do Ambiente de Trabalho\n",
    "\n",
    "Para se usar o Python é preciso instalar um ambiente de desenvolvimento integrado (IDE) - Você pode usar o VS Code, PyCharm, Google Colab que é Online ou o Jupyter Notebook. Além dos programas e bibliotecas mais usadas.\n",
    "\n",
    "Nós vamos utilizar o Jupyter Notebook.(vc também pode usar o JupyterLab)\n",
    "\n",
    "## Jupyter Notebook\n",
    "\n",
    "É uma aplicação para se criar e compartilhar documentos de computação. Ideal para usarmos no Curso.\n",
    "\n",
    "Mas para a instalação do Jupyter, vamos antes instalar o gerenciador de ambiente Anaconda: https://www.anaconda.com/download\n",
    "\n",
    "Entre com o seu e-mail e clik no link para fazer o download.\n",
    "\n",
    "Ao instalar o Anaconda, você vai baixar a maioria das bibliotecas mais usadas e um gerenciador de ambientes para organizar as dependências dos pacotes que vamos usar.\n",
    "\n",
    "Ao instalar o Anaconda, serão instalados vários aplicativos importantes para nossa evolução no curso. \n",
    "\n",
    "O importante agora é o Jupyter Notebook.\n",
    "\n"
   ]
  },
  {
   "cell_type": "code",
   "execution_count": 4,
   "id": "39fc0dff-564a-43ea-ae66-71a440aeca95",
   "metadata": {},
   "outputs": [
    {
     "name": "stdout",
     "output_type": "stream",
     "text": [
      "9\n"
     ]
    }
   ],
   "source": [
    "# Aqui é possivel Programar\n",
    "\n",
    "x = 5\n",
    "y = 4\n",
    "\n",
    "z = x + y\n",
    "\n",
    "print(z)"
   ]
  }
 ],
 "metadata": {
  "kernelspec": {
   "display_name": "Python 3 (ipykernel)",
   "language": "python",
   "name": "python3"
  },
  "language_info": {
   "codemirror_mode": {
    "name": "ipython",
    "version": 3
   },
   "file_extension": ".py",
   "mimetype": "text/x-python",
   "name": "python",
   "nbconvert_exporter": "python",
   "pygments_lexer": "ipython3",
   "version": "3.9.21"
  }
 },
 "nbformat": 4,
 "nbformat_minor": 5
}
