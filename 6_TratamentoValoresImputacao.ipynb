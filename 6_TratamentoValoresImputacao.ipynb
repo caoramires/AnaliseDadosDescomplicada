{
 "cells": [
  {
   "cell_type": "markdown",
   "id": "978fee65-ba41-4d66-835d-8cb58ac54b20",
   "metadata": {},
   "source": [
    "# Coleta e Preparação de Dados\n",
    "\n"
   ]
  },
  {
   "cell_type": "markdown",
   "id": "c5d129c6-ef99-4d6f-b758-2efd67bbbfb8",
   "metadata": {},
   "source": [
    "## Fontes Comuns\n",
    "\n",
    "- Arquivos CSV <br>\n",
    "- Arquivo Excel (.xlsx)<br>\n",
    "- Banco de dados (SQL) <br>\n",
    "- APIs (Application Programming Interfaces)\n"
   ]
  },
  {
   "cell_type": "markdown",
   "id": "59fb73bf-abc3-42b3-a0dd-a5c06ce885a9",
   "metadata": {},
   "source": [
    "## Limpeza de Dados"
   ]
  },
  {
   "cell_type": "markdown",
   "id": "70474be8-d07c-455a-a6a9-710461a39873",
   "metadata": {},
   "source": [
    "### Tratamento de Valores Ausentes:  NaN\n",
    "\n",
    "Exemplo Prático: Imagine uma planilha de alunos com uma coluna \"nota_final\". <br>\n",
    "Se alguns alunos ainda não têm nota, o campo estará vazio. O que fazer? "
   ]
  },
  {
   "cell_type": "code",
   "execution_count": 10,
   "id": "1964fa45-ab76-4b3a-b0dc-cf7c9b20a511",
   "metadata": {},
   "outputs": [
    {
     "name": "stdout",
     "output_type": "stream",
     "text": [
      "       nome  nota_final  faltas\n",
      "0     Livia    8.500000     2.0\n",
      "1   Gabriel    7.000000     3.0\n",
      "2    Carlos    8.166667     2.0\n",
      "3  Carolina    9.000000     2.0\n"
     ]
    }
   ],
   "source": [
    "import pandas as pd\n",
    "import numpy as np\n",
    "\n",
    "# Criando um DataFrame de exemplo com dados ausentes\n",
    "dados_alunos = pd.DataFrame({\n",
    "    'nome': ['Livia', 'Gabriel', 'Carlos', 'Carolina'],\n",
    "    'nota_final': [8.5, 7.0, np.nan, 9.0],\n",
    "    'faltas': [2, 3, 2, np.nan]\n",
    "})\n",
    "\n",
    "# Preenchendo a nota ausente com a média da turma\n",
    "media_notas = dados_alunos['nota_final'].mean()\n",
    "dados_alunos.fillna({'nota_final':media_notas}, inplace=True)\n",
    "\n",
    "# Preenchendo as faltas ausentes com a mediana (mais robusto a outliers)\n",
    "mediana_faltas = dados_alunos['faltas'].median()\n",
    "\n",
    "dados_alunos.fillna({'faltas':mediana_faltas}, inplace=True)\n",
    "\n",
    "print(dados_alunos)"
   ]
  },
  {
   "cell_type": "markdown",
   "id": "abcfbfa2-26c2-46b8-b660-ddf16e93ef76",
   "metadata": {},
   "source": [
    "## Tratando Outliers"
   ]
  },
  {
   "cell_type": "code",
   "execution_count": 14,
   "id": "0bd8fbb5-42ba-4328-9d2f-0f115e2524bc",
   "metadata": {},
   "outputs": [
    {
     "name": "stdout",
     "output_type": "stream",
     "text": [
      "\n",
      "Alunos com número de faltas suspeito:\n",
      "     nome  nota_final  faltas\n",
      "2  Carlos    8.166667      42\n"
     ]
    }
   ],
   "source": [
    "# Supondo que um limite razoável de faltas seja 40\n",
    "# Vamos filtrar para ver se existe algum outlier\n",
    "\n",
    "dados_alunos = pd.DataFrame({\n",
    "    'nome': ['Livia', 'Gabriel', 'Carlos', 'Carolina'],\n",
    "    'nota_final': [8.5, 7.0, 8.166667, 9.0],\n",
    "    'faltas': [2, 3, 42, 2]\n",
    "})\n",
    "\n",
    "outlier_faltas = dados_alunos[dados_alunos['faltas'] > 40]\n",
    "\n",
    "print(\"\\nAlunos com número de faltas suspeito:\")\n",
    "print(outlier_faltas)\n"
   ]
  }
 ],
 "metadata": {
  "kernelspec": {
   "display_name": "Python [conda env:base] *",
   "language": "python",
   "name": "conda-base-py"
  },
  "language_info": {
   "codemirror_mode": {
    "name": "ipython",
    "version": 3
   },
   "file_extension": ".py",
   "mimetype": "text/x-python",
   "name": "python",
   "nbconvert_exporter": "python",
   "pygments_lexer": "ipython3",
   "version": "3.9.7"
  }
 },
 "nbformat": 4,
 "nbformat_minor": 5
}
