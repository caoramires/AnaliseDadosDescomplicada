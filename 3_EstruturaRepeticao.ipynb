{
 "cells": [
  {
   "cell_type": "markdown",
   "id": "7763bb22-e1f9-40f4-9858-9755b2661dd3",
   "metadata": {},
   "source": [
    "# Conceitos Básicos de Programação\n",
    "\n"
   ]
  },
  {
   "cell_type": "code",
   "execution_count": null,
   "id": "1deae93e-c8f0-49ff-b8aa-48c42f55f139",
   "metadata": {},
   "outputs": [],
   "source": []
  },
  {
   "cell_type": "markdown",
   "id": "a9c9602f-205d-412c-be70-5105440fa78a",
   "metadata": {},
   "source": [
    "## Exemplo de Código"
   ]
  },
  {
   "cell_type": "code",
   "execution_count": 1,
   "id": "b92daff8-86e0-4ac5-8b73-ac6aee085b8b",
   "metadata": {},
   "outputs": [
    {
     "name": "stdout",
     "output_type": "stream",
     "text": [
      "Olá, Mundo!!\n"
     ]
    }
   ],
   "source": [
    "# Nosso primeiro programa em Python !\n",
    "# O comando print() exibe uma mensagem na tela\n",
    "\n",
    "print(\"Olá, Mundo!!\")\n"
   ]
  },
  {
   "cell_type": "code",
   "execution_count": 2,
   "id": "d52a5054-d69f-4186-87b1-172a9cd8e80e",
   "metadata": {},
   "outputs": [
    {
     "name": "stdout",
     "output_type": "stream",
     "text": [
      "Maria\n",
      "30\n"
     ]
    }
   ],
   "source": [
    "# Criando uma variável chamada 'nome' e guardando o texto \"Maria\" nela.\n",
    "nome = \"Maria\"\n",
    "idade = 30\n",
    "\n",
    "# Agora, podemos usar a etiqueta para ver o que tem dentro da caixa.\n",
    "print(nome)  # Vai exibir \"Maria\"\n",
    "print(idade) # Vai exibir 30"
   ]
  },
  {
   "cell_type": "markdown",
   "id": "598b8f68-a78e-4c5b-a5a3-3bbe52ff20bf",
   "metadata": {},
   "source": [
    "# Tipos de dados"
   ]
  },
  {
   "cell_type": "markdown",
   "id": "c48450a8-c92a-40b1-b2c7-613b2dcaaca0",
   "metadata": {},
   "source": [
    "\n",
    "•\t**String** (str): Texto puro. Sempre entre aspas. Ex: \"Olá, pessoal\", \"Campinas\". <br>\n",
    "•\t**Integer** (int): Números inteiros. Ex: 10, 42, -5. <br>\n",
    "•\t**Float** (float): Números com casas decimais. Ex: 1.75, 9.99. <br>\n",
    "•\t**Boolean** (bool): Apenas dois valores possíveis: True (Verdadeiro) ou False (Falso). É a base da lógica e das decisões. <br>\n"
   ]
  },
  {
   "cell_type": "markdown",
   "id": "246d5637-8187-4923-b6e9-bfdde0473f8c",
   "metadata": {},
   "source": [
    "## Operadores matemáticos\n",
    "\n",
    "•\t+ (Adição) <br>\n",
    "•\t-  (Subtração)<br>\n",
    "•\t* (Multiplicação)<br>\n",
    "•\t/  (divisão)<br>\n",
    "•\t= (igual/atribuição)<br>\n",
    "•\t^ (potência) <br>\n",
    "\n"
   ]
  },
  {
   "cell_type": "code",
   "execution_count": 6,
   "id": "da0280b6-30d8-46f8-bc28-3dde692243ce",
   "metadata": {},
   "outputs": [
    {
     "name": "stdout",
     "output_type": "stream",
     "text": [
      "12\n"
     ]
    }
   ],
   "source": [
    "# Um exemplo de operações no Python\n",
    "\n",
    "x = 5 + 7    # os valores 5 e 7 serão somados e atribuídos à variável x\n",
    "\n",
    "print(x)"
   ]
  },
  {
   "cell_type": "code",
   "execution_count": 8,
   "id": "22f1274b-3842-4826-a374-c68156eab0d2",
   "metadata": {},
   "outputs": [
    {
     "name": "stdout",
     "output_type": "stream",
     "text": [
      "32.0\n"
     ]
    }
   ],
   "source": [
    "# Operações com variáveis para resolver problemas\n",
    "# Calcule a média da idade de José e Maria sabendo que:\n",
    "jose = 39\n",
    "maria = 25\n",
    "\n",
    "media_idade = (jose + maria)/2\n",
    "print(media_idade)\n"
   ]
  },
  {
   "cell_type": "markdown",
   "id": "6e1a1841-9a26-424e-939c-de111a620791",
   "metadata": {},
   "source": [
    "# Entrada de dados"
   ]
  },
  {
   "cell_type": "code",
   "execution_count": 4,
   "id": "133d159a-1a02-4f52-98d7-fd77c838b12f",
   "metadata": {},
   "outputs": [
    {
     "name": "stdin",
     "output_type": "stream",
     "text": [
      "Oi! Qual é o seu nome?  Carlos\n"
     ]
    },
    {
     "name": "stdout",
     "output_type": "stream",
     "text": [
      "Olá, Carlos! Seja bem-vindo(a) ao mundo do Python!\n"
     ]
    }
   ],
   "source": [
    "# Pedimos o nome do usuário e guardamos na variável 'nome_usuario'\n",
    "nome_usuario = input(\"Oi! Qual é o seu nome? \")\n",
    "\n",
    "# Usamos o que aprendemos para criar uma saudação personalizada\n",
    "print(\"Olá, \" + nome_usuario + \"! Seja bem-vindo(a) ao mundo do Python!\")"
   ]
  },
  {
   "cell_type": "markdown",
   "id": "c54ca123-05ec-481c-856a-73dcd725c84a",
   "metadata": {},
   "source": [
    "## Operadores de Comparação e Estrutura de Decisão \n"
   ]
  },
  {
   "cell_type": "markdown",
   "id": "e43113bc-7ea5-4fef-adbe-4e8f99a0bcb6",
   "metadata": {},
   "source": [
    "Os operadores de comparação: <br>\n",
    "\t== (igual a)<br>\n",
    "\t!= (diferente de)<br>\n",
    "\t> (maior que)<br>\n",
    "\t< (menor que)<br>\n"
   ]
  },
  {
   "cell_type": "code",
   "execution_count": 1,
   "id": "3a7923d8-29b6-42c8-a67c-c48c18f4dc5c",
   "metadata": {},
   "outputs": [
    {
     "name": "stdin",
     "output_type": "stream",
     "text": [
      "Digite sua idade:  23\n"
     ]
    },
    {
     "name": "stdout",
     "output_type": "stream",
     "text": [
      "Você é maior de idade.\n"
     ]
    }
   ],
   "source": [
    "# Exemplo de código de Comparação e Decisão\n",
    "\n",
    "idade_str = input(\"Digite sua idade: \")   # Entrada da idade\n",
    "idade = int(idade_str) # Convertemos o texto recebido para um número inteiro\n",
    "\n",
    "if idade < 18:\n",
    "    print(\"Você é menor de idade.\")\n",
    "elif idade >= 65:\n",
    "    print(\"Você está na melhor idade!\")\n",
    "else:\n",
    "    print(\"Você é maior de idade.\")\n"
   ]
  },
  {
   "cell_type": "markdown",
   "id": "8289389d-54e9-4a3e-8484-82b9fba21bc5",
   "metadata": {},
   "source": [
    "## Estruturas de Repetição **for** e **while**"
   ]
  },
  {
   "cell_type": "code",
   "execution_count": 2,
   "id": "43f778eb-e8e3-42ad-a77d-fb7253dd92c0",
   "metadata": {},
   "outputs": [
    {
     "name": "stdout",
     "output_type": "stream",
     "text": [
      "Esta é a repetição número: 1\n",
      "Esta é a repetição número: 2\n",
      "Esta é a repetição número: 3\n",
      "Esta é a repetição número: 4\n",
      "Esta é a repetição número: 5\n"
     ]
    }
   ],
   "source": [
    "# range(1, 6) cria uma sequência de números de 1 até 5.\n",
    "for numero in range(1, 6):\n",
    "    print(\"Esta é a repetição número:\", numero)\n"
   ]
  },
  {
   "cell_type": "code",
   "execution_count": 4,
   "id": "5dce4c57-58ff-44f6-b47c-047a8a665c01",
   "metadata": {},
   "outputs": [
    {
     "name": "stdin",
     "output_type": "stream",
     "text": [
      "Qual a senha secreta? Dica: é uma palavra mágica.  abra\n",
      "Qual a senha secreta? Dica: é uma palavra mágica.  abra por favor\n",
      "Qual a senha secreta? Dica: é uma palavra mágica.  abracadabra\n"
     ]
    },
    {
     "name": "stdout",
     "output_type": "stream",
     "text": [
      "Parabéns, você acertou a senha e pode entrar na festa do Python!\n"
     ]
    }
   ],
   "source": [
    "senha_secreta = \"abracadabra\"\n",
    "palpite = \"\" # Começamos com um palpite vazio\n",
    "\n",
    "while palpite != senha_secreta:\n",
    "    palpite = input(\"Qual a senha secreta? Dica: é uma palavra mágica. \")\n",
    "\n",
    "print(\"Parabéns, você acertou a senha e pode entrar na festa do Python!\")\n",
    "\n"
   ]
  },
  {
   "cell_type": "markdown",
   "id": "4c1482f6-13ae-45d7-9762-af991a9c3d97",
   "metadata": {},
   "source": [
    "## Coleções de Dados - Listas, Tuplas e Dicionários"
   ]
  },
  {
   "cell_type": "markdown",
   "id": "53955ee6-98c8-4275-9432-9f5d5506a890",
   "metadata": {},
   "source": [
    "### Exemplos de Listas"
   ]
  },
  {
   "cell_type": "code",
   "execution_count": 9,
   "id": "84648c62-e428-4e2b-a0c2-cec6aa88f1d3",
   "metadata": {},
   "outputs": [
    {
     "name": "stdout",
     "output_type": "stream",
     "text": [
      "Minha primeira tarefa é: Estudar Python\n",
      "Lista atualizada: ['Estudar Python', 'Ir ao mercado', 'Pagar a conta de luz', 'Ligar para a mamãe']\n",
      "Lista após remover um item: ['Estudar Python', 'Pagar a conta de luz', 'Ligar para a mamãe']\n",
      "Lista com item modificado: ['Estudar Python COM MAIS FOCO!', 'Pagar a conta de luz', 'Ligar para a mamãe']\n"
     ]
    }
   ],
   "source": [
    "# Criamos uma lista de tarefas usando colchetes []\n",
    "tarefas = [\"Estudar Python\", \"Ir ao mercado\", \"Pagar a conta de luz\"]\n",
    "\n",
    "# Acessando um item pelo seu índice (a contagem sempre começa do 0!)\n",
    "print(\"Minha primeira tarefa é:\", tarefas[0])\n",
    "\n",
    "# Adicionando um novo item ao final da lista\n",
    "tarefas.append(\"Ligar para a mamãe\")\n",
    "print(\"Lista atualizada:\", tarefas)\n",
    "\n",
    "# Removendo um item da lista\n",
    "tarefas.remove(\"Ir ao mercado\")\n",
    "print(\"Lista após remover um item:\", tarefas)\n",
    "\n",
    "# Modificando um item existente\n",
    "tarefas[0] = \"Estudar Python COM MAIS FOCO!\"\n",
    "print(\"Lista com item modificado:\", tarefas)"
   ]
  },
  {
   "cell_type": "markdown",
   "id": "c970a045-ee2d-4306-9e8f-a12c8e8d00a1",
   "metadata": {},
   "source": []
  },
  {
   "cell_type": "markdown",
   "id": "2953a9bb-090e-42bb-a53f-046775c6f4fd",
   "metadata": {},
   "source": [
    "## Tuplas"
   ]
  },
  {
   "cell_type": "code",
   "execution_count": 10,
   "id": "f8e79eb3-ae97-43c9-ab42-298ad4e541d4",
   "metadata": {},
   "outputs": [
    {
     "name": "stdout",
     "output_type": "stream",
     "text": [
      "Latitude: -22.9068\n",
      "Longitude: -47.0616\n",
      "Essas coordenadas são fixas e seguras!\n"
     ]
    }
   ],
   "source": [
    "# Criamos uma tupla com as coordenadas usando parênteses ()\n",
    "coordenadas_casa = (-22.9068, -47.0616) # Coordenadas de Campinas, SP\n",
    "\n",
    "# Podemos acessar os valores normalmente\n",
    "print(\"Latitude:\", coordenadas_casa[0])\n",
    "print(\"Longitude:\", coordenadas_casa[1])\n",
    "\n",
    "# Mas, se tentarmos alterar um valor...\n",
    "# A linha abaixo vai gerar um ERRO! E isso é bom, pois protege nossos dados.\n",
    "# coordenadas_casa[0] = -23.0000  # TypeError: 'tuple' object does not support item assignment\n",
    "\n",
    "print(\"Essas coordenadas são fixas e seguras!\")"
   ]
  },
  {
   "cell_type": "markdown",
   "id": "5bfc5950-c1fc-457d-bffe-4e936ffdd923",
   "metadata": {},
   "source": [
    "## Dicionários"
   ]
  },
  {
   "cell_type": "code",
   "execution_count": 14,
   "id": "ecbce16e-3b6e-4b9a-ad13-6db2df90303a",
   "metadata": {},
   "outputs": [
    {
     "name": "stdout",
     "output_type": "stream",
     "text": [
      "O nome do aluno é: Carlos Ramires\n",
      "Ele está cursando: Análise de Dados\n",
      "Informações completas: {'nome': 'Carlos Ramires', 'curso': 'Análise de Dados', 'matricula': 98765, 'status': True, 'cidade': 'Campinas'}\n",
      "O status do aluno agora é: False\n"
     ]
    }
   ],
   "source": [
    "# Criamos um dicionário usando chaves {}\n",
    "aluno = {\n",
    "    \"nome\": \"Carlos Ramires\",\n",
    "    \"curso\": \"Análise de Dados\",\n",
    "    \"matricula\": 98765,\n",
    "    \"status\": True\n",
    "}\n",
    "\n",
    "# Acessando um valor pela sua chave\n",
    "print(\"O nome do aluno é:\", aluno[\"nome\"])\n",
    "print(\"Ele está cursando:\", aluno[\"curso\"])\n",
    "\n",
    "# Adicionando um novo par chave:valor\n",
    "aluno[\"cidade\"] = \"Campinas\"\n",
    "print(\"Informações completas:\", aluno)\n",
    "\n",
    "# Modificando um valor existente\n",
    "aluno[\"status\"] = False\n",
    "print(\"O status do aluno agora é:\", aluno[\"status\"])"
   ]
  }
 ],
 "metadata": {
  "kernelspec": {
   "display_name": "Python [conda env:base] *",
   "language": "python",
   "name": "conda-base-py"
  },
  "language_info": {
   "codemirror_mode": {
    "name": "ipython",
    "version": 3
   },
   "file_extension": ".py",
   "mimetype": "text/x-python",
   "name": "python",
   "nbconvert_exporter": "python",
   "pygments_lexer": "ipython3",
   "version": "3.9.7"
  }
 },
 "nbformat": 4,
 "nbformat_minor": 5
}
