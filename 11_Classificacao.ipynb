{
 "cells": [
  {
   "cell_type": "markdown",
   "id": "01661661-7444-495a-810b-c8ca9413ec45",
   "metadata": {},
   "source": [
    "# Classificação: Separando em Categorias"
   ]
  },
  {
   "cell_type": "markdown",
   "id": "31ca877a-907b-4475-8304-065f7d2351bf",
   "metadata": {},
   "source": [
    "## Classificação Binária - Logistica\n",
    "\n",
    "É o tipo mais simples, onde há apenas duas categorias possíveis (Sim/Não, 1/0, Spam/Não Spam)."
   ]
  },
  {
   "cell_type": "markdown",
   "id": "474b8cee-9f34-4f3f-ab73-f5b0dcbd0e9b",
   "metadata": {},
   "source": [
    "Imagine que temos um DataFrame com uma avaliação de treinamento de 10 e-mails quanto a <br>\n",
    "\"contém as palavras oferta e grátis\"<br>\n",
    "\"Muitos erros de portugues\"<br>\n",
    "\"É SPAM ou Não é SPAM\""
   ]
  },
  {
   "cell_type": "code",
   "execution_count": 3,
   "id": "e152d848-d45c-4177-9ed7-1da035b79816",
   "metadata": {},
   "outputs": [
    {
     "name": "stdout",
     "output_type": "stream",
     "text": [
      "Previsão do Modelo Logístico: É SPAM\n"
     ]
    }
   ],
   "source": [
    "import pandas as pd\n",
    "from sklearn.model_selection import train_test_split\n",
    "from sklearn.linear_model import LogisticRegression\n",
    "from sklearn.tree import DecisionTreeClassifier\n",
    "from sklearn.metrics import accuracy_score, precision_score, recall_score\n",
    "\n",
    "# 1. Criando dados de exemplo: características de e-mails vs. se é spam\n",
    "emails = pd.DataFrame({\n",
    "    'contem_oferta': [1, 0, 0, 1, 0, 1, 0, 0, 1, 1], # 1 se tem \"oferta\", \"grátis\", etc.\n",
    "    'erros_gramaticais': [1, 0, 1, 1, 0, 0, 0, 1, 0, 1], # 1 se tem muitos erros\n",
    "    'eh_spam': [1, 0, 0, 1, 0, 1, 0, 0, 1, 1] # 1 = SPAM, 0 = NÃO SPAM (nosso target)\n",
    "})\n",
    "\n",
    "X_email = emails[['contem_oferta', 'erros_gramaticais']]\n",
    "y_email = emails['eh_spam']\n",
    "\n",
    "# 2. Criando e treinando um modelo de Regressão Logística\n",
    "modelo_logistico = LogisticRegression()\n",
    "modelo_logistico.fit(X_email, y_email)\n",
    "\n",
    "# 3. Prevendo para um novo e-mail\n",
    "novo_email = pd.DataFrame([[1, 1]], columns=['contem_oferta', 'erros_gramaticais']) # Um e-mail com \"oferta\" e com erros gramaticais\n",
    "previsao = modelo_logistico.predict(novo_email)\n",
    "print(f\"Previsão do Modelo Logístico: {'É SPAM' if previsao[0] == 1 else 'Não é Spam'}\")\n"
   ]
  },
  {
   "cell_type": "code",
   "execution_count": 4,
   "id": "75fdea9f-694c-4aaa-91b2-c5763ca19bd1",
   "metadata": {},
   "outputs": [
    {
     "name": "stdout",
     "output_type": "stream",
     "text": [
      "Acurácia da Regressão Logistica nos dados de treino: 100.00%\n"
     ]
    }
   ],
   "source": [
    "# Avaliando a acurácia do modelo nos próprios dados de treino (apenas para exemplo)\n",
    "from sklearn.metrics import accuracy_score\n",
    "\n",
    "acuracia_logistico = accuracy_score(y_email, modelo_logistico.predict(X_email))\n",
    "print(f\"Acurácia da Regressão Logistica nos dados de treino: {acuracia_logistico * 100:.2f}%\")"
   ]
  }
 ],
 "metadata": {
  "kernelspec": {
   "display_name": "Python [conda env:base] *",
   "language": "python",
   "name": "conda-base-py"
  },
  "language_info": {
   "codemirror_mode": {
    "name": "ipython",
    "version": 3
   },
   "file_extension": ".py",
   "mimetype": "text/x-python",
   "name": "python",
   "nbconvert_exporter": "python",
   "pygments_lexer": "ipython3",
   "version": "3.9.7"
  }
 },
 "nbformat": 4,
 "nbformat_minor": 5
}
