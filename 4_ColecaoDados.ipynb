{
 "cells": [
  {
   "cell_type": "markdown",
   "id": "4c1482f6-13ae-45d7-9762-af991a9c3d97",
   "metadata": {},
   "source": [
    "## Coleções de Dados - Listas, Tuplas e Dicionários"
   ]
  },
  {
   "cell_type": "markdown",
   "id": "53955ee6-98c8-4275-9432-9f5d5506a890",
   "metadata": {},
   "source": [
    "### Exemplos de Listas"
   ]
  },
  {
   "cell_type": "code",
   "execution_count": 9,
   "id": "84648c62-e428-4e2b-a0c2-cec6aa88f1d3",
   "metadata": {},
   "outputs": [
    {
     "name": "stdout",
     "output_type": "stream",
     "text": [
      "Minha primeira tarefa é: Estudar Python\n",
      "Lista atualizada: ['Estudar Python', 'Ir ao mercado', 'Pagar a conta de luz', 'Ligar para a mamãe']\n",
      "Lista após remover um item: ['Estudar Python', 'Pagar a conta de luz', 'Ligar para a mamãe']\n",
      "Lista com item modificado: ['Estudar Python COM MAIS FOCO!', 'Pagar a conta de luz', 'Ligar para a mamãe']\n"
     ]
    }
   ],
   "source": [
    "# Criamos uma lista de tarefas usando colchetes []\n",
    "tarefas = [\"Estudar Python\", \"Ir ao mercado\", \"Pagar a conta de luz\"]\n",
    "\n",
    "# Acessando um item pelo seu índice (a contagem sempre começa do 0!)\n",
    "print(\"Minha primeira tarefa é:\", tarefas[0])\n",
    "\n",
    "# Adicionando um novo item ao final da lista\n",
    "tarefas.append(\"Ligar para a mamãe\")\n",
    "print(\"Lista atualizada:\", tarefas)\n",
    "\n",
    "# Removendo um item da lista\n",
    "tarefas.remove(\"Ir ao mercado\")\n",
    "print(\"Lista após remover um item:\", tarefas)\n",
    "\n",
    "# Modificando um item existente\n",
    "tarefas[0] = \"Estudar Python COM MAIS FOCO!\"\n",
    "print(\"Lista com item modificado:\", tarefas)"
   ]
  },
  {
   "cell_type": "markdown",
   "id": "c970a045-ee2d-4306-9e8f-a12c8e8d00a1",
   "metadata": {},
   "source": []
  },
  {
   "cell_type": "markdown",
   "id": "2953a9bb-090e-42bb-a53f-046775c6f4fd",
   "metadata": {},
   "source": [
    "## Tuplas"
   ]
  },
  {
   "cell_type": "code",
   "execution_count": 10,
   "id": "f8e79eb3-ae97-43c9-ab42-298ad4e541d4",
   "metadata": {},
   "outputs": [
    {
     "name": "stdout",
     "output_type": "stream",
     "text": [
      "Latitude: -22.9068\n",
      "Longitude: -47.0616\n",
      "Essas coordenadas são fixas e seguras!\n"
     ]
    }
   ],
   "source": [
    "# Criamos uma tupla com as coordenadas usando parênteses ()\n",
    "coordenadas_casa = (-22.9068, -47.0616) # Coordenadas de Campinas, SP\n",
    "\n",
    "# Podemos acessar os valores normalmente\n",
    "print(\"Latitude:\", coordenadas_casa[0])\n",
    "print(\"Longitude:\", coordenadas_casa[1])\n",
    "\n",
    "# Mas, se tentarmos alterar um valor...\n",
    "# A linha abaixo vai gerar um ERRO! E isso é bom, pois protege nossos dados.\n",
    "# coordenadas_casa[0] = -23.0000  # TypeError: 'tuple' object does not support item assignment\n",
    "\n",
    "print(\"Essas coordenadas são fixas e seguras!\")"
   ]
  },
  {
   "cell_type": "markdown",
   "id": "5bfc5950-c1fc-457d-bffe-4e936ffdd923",
   "metadata": {},
   "source": [
    "## Dicionários"
   ]
  },
  {
   "cell_type": "code",
   "execution_count": 14,
   "id": "ecbce16e-3b6e-4b9a-ad13-6db2df90303a",
   "metadata": {},
   "outputs": [
    {
     "name": "stdout",
     "output_type": "stream",
     "text": [
      "O nome do aluno é: Carlos Ramires\n",
      "Ele está cursando: Análise de Dados\n",
      "Informações completas: {'nome': 'Carlos Ramires', 'curso': 'Análise de Dados', 'matricula': 98765, 'status': True, 'cidade': 'Campinas'}\n",
      "O status do aluno agora é: False\n"
     ]
    }
   ],
   "source": [
    "# Criamos um dicionário usando chaves {}\n",
    "aluno = {\n",
    "    \"nome\": \"Carlos Ramires\",\n",
    "    \"curso\": \"Análise de Dados\",\n",
    "    \"matricula\": 98765,\n",
    "    \"status\": True\n",
    "}\n",
    "\n",
    "# Acessando um valor pela sua chave\n",
    "print(\"O nome do aluno é:\", aluno[\"nome\"])\n",
    "print(\"Ele está cursando:\", aluno[\"curso\"])\n",
    "\n",
    "# Adicionando um novo par chave:valor\n",
    "aluno[\"cidade\"] = \"Campinas\"\n",
    "print(\"Informações completas:\", aluno)\n",
    "\n",
    "# Modificando um valor existente\n",
    "aluno[\"status\"] = False\n",
    "print(\"O status do aluno agora é:\", aluno[\"status\"])"
   ]
  }
 ],
 "metadata": {
  "kernelspec": {
   "display_name": "Python [conda env:base] *",
   "language": "python",
   "name": "conda-base-py"
  },
  "language_info": {
   "codemirror_mode": {
    "name": "ipython",
    "version": 3
   },
   "file_extension": ".py",
   "mimetype": "text/x-python",
   "name": "python",
   "nbconvert_exporter": "python",
   "pygments_lexer": "ipython3",
   "version": "3.9.7"
  }
 },
 "nbformat": 4,
 "nbformat_minor": 5
}
